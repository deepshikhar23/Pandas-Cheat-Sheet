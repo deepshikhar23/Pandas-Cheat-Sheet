{
  "nbformat": 4,
  "nbformat_minor": 0,
  "metadata": {
    "colab": {
      "provenance": []
    },
    "kernelspec": {
      "name": "python3",
      "display_name": "Python 3"
    },
    "language_info": {
      "name": "python"
    }
  },
  "cells": [
    {
      "cell_type": "code",
      "source": [
        "# Select a column\n",
        "df['col1']"
      ],
      "metadata": {
        "id": "vq0oswugax4R"
      },
      "execution_count": null,
      "outputs": []
    },
    {
      "cell_type": "code",
      "source": [
        "# Select multiple columns\n",
        "df[['col1', 'col2']]"
      ],
      "metadata": {
        "id": "Kvac5OwAcM8p"
      },
      "execution_count": null,
      "outputs": []
    },
    {
      "cell_type": "code",
      "source": [
        "# Select a row by index\n",
        "df.loc[index]"
      ],
      "metadata": {
        "id": "fNfJwpqscQYE"
      },
      "execution_count": null,
      "outputs": []
    },
    {
      "cell_type": "code",
      "source": [
        "# Select multiple rows by index\n",
        "df.loc[start_index:end_index]"
      ],
      "metadata": {
        "id": "Ra71vPTEcNCN"
      },
      "execution_count": null,
      "outputs": []
    },
    {
      "cell_type": "code",
      "source": [
        "# Filter rows by a condition\n",
        "df[df['col1'] > 1]"
      ],
      "metadata": {
        "id": "DtSvZZRxcXyu"
      },
      "execution_count": null,
      "outputs": []
    },
    {
      "cell_type": "code",
      "source": [
        "# Sort DataFrame by column\n",
        "df.sort_values('col1')"
      ],
      "metadata": {
        "id": "l_fiL2OBcaaP"
      },
      "execution_count": null,
      "outputs": []
    },
    {
      "cell_type": "code",
      "source": [
        "# Drop a column\n",
        "df.drop('col1', axis=1)"
      ],
      "metadata": {
        "id": "2H9oaQz-ccn6"
      },
      "execution_count": null,
      "outputs": []
    },
    {
      "cell_type": "code",
      "source": [
        "# Drop rows with missing values\n",
        "df.dropna()"
      ],
      "metadata": {
        "id": "B9MFmMACcczq"
      },
      "execution_count": null,
      "outputs": []
    },
    {
      "cell_type": "code",
      "source": [
        "# Fill missing values with a specific value\n",
        "df.fillna(value)"
      ],
      "metadata": {
        "id": "5V4BhbeGciCt"
      },
      "execution_count": null,
      "outputs": []
    }
  ]
}
