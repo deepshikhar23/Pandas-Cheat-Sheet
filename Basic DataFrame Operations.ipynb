{
  "nbformat": 4,
  "nbformat_minor": 0,
  "metadata": {
    "colab": {
      "provenance": []
    },
    "kernelspec": {
      "name": "python3",
      "display_name": "Python 3"
    },
    "language_info": {
      "name": "python"
    }
  },
  "cells": [
    {
      "cell_type": "code",
      "execution_count": 1,
      "metadata": {
        "id": "rfncYRLsZOfr"
      },
      "outputs": [],
      "source": [
        "# Select a column\n",
        "df['col1']\n",
        "\n",
        "# Select multiple columns\n",
        "df[['col1', 'col2']]\n",
        "\n",
        "# Select a row by index\n",
        "df.loc[index]\n",
        "\n",
        "# Select multiple rows by index\n",
        "df.loc[start_index:end_index]\n",
        "\n",
        "# Filter rows by a condition\n",
        "df[df['col1'] > 1]\n",
        "\n",
        "# Sort DataFrame by column\n",
        "df.sort_values('col1')\n",
        "\n",
        "# Drop a column\n",
        "df.drop('col1', axis=1)\n",
        "\n",
        "# Drop rows with missing values\n",
        "df.dropna()\n",
        "\n",
        "# Fill missing values with a specific value\n",
        "df.fillna(value)\n"
      ]
    }
  ]
}