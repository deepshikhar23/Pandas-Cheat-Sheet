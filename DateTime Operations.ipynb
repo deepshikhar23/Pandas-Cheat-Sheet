{
  "nbformat": 4,
  "nbformat_minor": 0,
  "metadata": {
    "colab": {
      "provenance": []
    },
    "kernelspec": {
      "name": "python3",
      "display_name": "Python 3"
    },
    "language_info": {
      "name": "python"
    }
  },
  "cells": [
    {
      "cell_type": "code",
      "source": [
        "# Convert a column to DateTime format\n",
        "df['col1'] = pd.to_datetime(df['col1'])"
      ],
      "metadata": {
        "id": "vq0oswugax4R"
      },
      "execution_count": null,
      "outputs": []
    },
    {
      "cell_type": "code",
      "source": [
        "# Extract the year from a DateTime column\n",
        "df['col1'].dt.year"
      ],
      "metadata": {
        "id": "SoI3KeySdULu"
      },
      "execution_count": null,
      "outputs": []
    },
    {
      "cell_type": "code",
      "source": [
        "# Extract the month from a DateTime column\n",
        "df['col1'].dt.month"
      ],
      "metadata": {
        "id": "io1D6D9KdWgf"
      },
      "execution_count": null,
      "outputs": []
    },
    {
      "cell_type": "code",
      "source": [
        "# Extract the day from a DateTime column\n",
        "df['col1'].dt.day"
      ],
      "metadata": {
        "id": "sjp1tIs6dY3B"
      },
      "execution_count": null,
      "outputs": []
    }
  ]
}