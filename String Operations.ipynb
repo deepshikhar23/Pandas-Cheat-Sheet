{
  "nbformat": 4,
  "nbformat_minor": 0,
  "metadata": {
    "colab": {
      "provenance": []
    },
    "kernelspec": {
      "name": "python3",
      "display_name": "Python 3"
    },
    "language_info": {
      "name": "python"
    }
  },
  "cells": [
    {
      "cell_type": "code",
      "source": [
        "# Convert a column to lowercase\n",
        "df['col1'].str.lower()"
      ],
      "metadata": {
        "id": "vq0oswugax4R"
      },
      "execution_count": null,
      "outputs": []
    },
    {
      "cell_type": "code",
      "source": [
        "# Extract a substring from a column\n",
        "df['col1'].str.extract('substring')"
      ],
      "metadata": {
        "id": "Uy1AlAc0c8R_"
      },
      "execution_count": null,
      "outputs": []
    },
    {
      "cell_type": "code",
      "source": [
        "# Replace a substring in a column\n",
        "df['col1'].str.replace('old_substring', 'new_substring')"
      ],
      "metadata": {
        "id": "zidNW6loc-k8"
      },
      "execution_count": null,
      "outputs": []
    }
  ]
}