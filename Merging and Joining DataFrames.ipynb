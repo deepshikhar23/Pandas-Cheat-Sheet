{
  "nbformat": 4,
  "nbformat_minor": 0,
  "metadata": {
    "colab": {
      "provenance": []
    },
    "kernelspec": {
      "name": "python3",
      "display_name": "Python 3"
    },
    "language_info": {
      "name": "python"
    }
  },
  "cells": [
    {
      "cell_type": "code",
      "source": [
        "# Merge two DataFrames by a common column\n",
        "merged_df = pd.merge(df1, df2, on='common_column')"
      ],
      "metadata": {
        "id": "vq0oswugax4R"
      },
      "execution_count": null,
      "outputs": []
    },
    {
      "cell_type": "code",
      "source": [
        "# Merge two DataFrames by multiple columns\n",
        "merged_df = pd.merge(df1, df2, on=['col1', 'col2'])"
      ],
      "metadata": {
        "id": "fcn4f55bbq0j"
      },
      "execution_count": null,
      "outputs": []
    },
    {
      "cell_type": "code",
      "source": [
        "# Join two DataFrames by index\n",
        "joined_df = df1.join(df2)"
      ],
      "metadata": {
        "id": "kEMDOXg7bs4o"
      },
      "execution_count": null,
      "outputs": []
    },
    {
      "cell_type": "code",
      "source": [
        "# Join two DataFrames by index and columns\n",
        "joined_df = df1.join(df2, on='common_column')"
      ],
      "metadata": {
        "id": "lY5ObLUZbuxf"
      },
      "execution_count": null,
      "outputs": []
    }
  ]
}