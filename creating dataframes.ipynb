{
  "nbformat": 4,
  "nbformat_minor": 0,
  "metadata": {
    "colab": {
      "provenance": []
    },
    "kernelspec": {
      "name": "python3",
      "display_name": "Python 3"
    },
    "language_info": {
      "name": "python"
    }
  },
  "cells": [
    {
      "cell_type": "code",
      "execution_count": 1,
      "metadata": {
        "id": "rfncYRLsZOfr"
      },
      "outputs": [],
      "source": [
        "import pandas as pd"
      ]
    },
    {
      "cell_type": "code",
      "source": [
        "# Create DataFrame from a dictionary\n",
        "df = pd.DataFrame({'col1': [1, 2, 3], 'col2': ['a', 'b', 'c']})"
      ],
      "metadata": {
        "id": "Y0VRbiZgZVmW"
      },
      "execution_count": 2,
      "outputs": []
    },
    {
      "cell_type": "code",
      "source": [
        "# Create DataFrame from a list of lists\n",
        "df = pd.DataFrame([[1, 'a'], [2, 'b'], [3, 'c']], columns=['col1', 'col2'])"
      ],
      "metadata": {
        "id": "p31aLuY3ZYG9"
      },
      "execution_count": 3,
      "outputs": []
    },
    {
      "cell_type": "code",
      "source": [
        "# Create DataFrame from a CSV file\n",
        "df = pd.read_csv('filename.csv')"
      ],
      "metadata": {
        "id": "KBhfIAPeZcJt"
      },
      "execution_count": null,
      "outputs": []
    }
  ]
}