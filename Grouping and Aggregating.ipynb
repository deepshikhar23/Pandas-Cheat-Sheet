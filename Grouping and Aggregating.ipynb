{
  "nbformat": 4,
  "nbformat_minor": 0,
  "metadata": {
    "colab": {
      "provenance": []
    },
    "kernelspec": {
      "name": "python3",
      "display_name": "Python 3"
    },
    "language_info": {
      "name": "python"
    }
  },
  "cells": [
    {
      "cell_type": "code",
      "source": [
        "# Group DataFrame by a column and calculate the mean of another column\n",
        "df.groupby('col1')['col2'].mean()"
      ],
      "metadata": {
        "id": "vq0oswugax4R"
      },
      "execution_count": null,
      "outputs": []
    },
    {
      "cell_type": "code",
      "source": [
        "# Group DataFrame by multiple columns and calculate the sum of another column\n",
        "df.groupby(['col1', 'col2'])['col3'].sum()"
      ],
      "metadata": {
        "id": "RuDiKVeVa4dM"
      },
      "execution_count": null,
      "outputs": []
    },
    {
      "cell_type": "code",
      "source": [
        "# Pivot table with mean aggregation\n",
        "df.pivot_table(values='col1', index='col2', columns='col3', aggfunc='mean')"
      ],
      "metadata": {
        "id": "7m6bUUXoa697"
      },
      "execution_count": null,
      "outputs": []
    }
  ]
}